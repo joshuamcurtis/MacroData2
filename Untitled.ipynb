{
 "cells": [
  {
   "cell_type": "code",
   "execution_count": 1,
   "id": "444ed82f",
   "metadata": {},
   "outputs": [],
   "source": [
    "import sqlite3 as db\n",
    "from sqlite3 import Error\n",
    "\n",
    "def create_connection(db_name):\n",
    "    \"\"\" \n",
    "    create a database connection to the SQLite database\n",
    "        specified by db_name\n",
    "    return: Connection object or None\n",
    "    \"\"\"\n",
    "    conn = None\n",
    "    try:\n",
    "        conn = db.connect(db_name)\n",
    "        return conn\n",
    "    except Error as e:\n",
    "        print(e)\n",
    "\n",
    "    return conn\n",
    "\n",
    "def conn_execute(db_name, sql_code):\n",
    "    \"\"\"\n",
    "    excute sql code on the connection to the sqlite database\n",
    "    \"\"\"\n",
    "    conn = create_connection(db_name)\n",
    "    c = conn.cursor()\n",
    "    try:\n",
    "        c.execute(sql_code)\n",
    "    except Error as e:\n",
    "        print(e)\n",
    "    \n",
    "    data = c.fetchall()\n",
    "    \n",
    "    conn.close()\n",
    "    \n",
    "    return data\n",
    "    "
   ]
  },
  {
   "cell_type": "code",
   "execution_count": 20,
   "id": "76ec1bd8",
   "metadata": {},
   "outputs": [],
   "source": [
    "def check_table_exists(tbl_name, db_name): \n",
    "    \"\"\"\n",
    "    Check if table exists\n",
    "    \"\"\"\n",
    "    exists = 0\n",
    "    \n",
    "    sql_code = \"SELECT count(name) FROM sqlite_master WHERE type='table'\"\n",
    "    exists = conn_execute(db_name, sql_code) \n",
    "    if exists[0][0] == 0:\n",
    "        print(\"No tables in DB.\")\n",
    "    else:\n",
    "        try:\n",
    "            exists = conn_execute(db_name, \"\"\"SELECT COUNT(name) FROM sqlite_master \n",
    "                                    WHERE type = 'table' AND name='\" + tbl_name +\"';\"\"\")\n",
    "        except Error as e:\n",
    "            print(e)\n",
    "        if exists[0][0] == 1:\n",
    "            exists = 1\n",
    "    \n",
    "    return exists[0][0]"
   ]
  },
  {
   "cell_type": "code",
   "execution_count": 21,
   "id": "101525c9",
   "metadata": {},
   "outputs": [],
   "source": [
    "db_name = 'MacroData2'"
   ]
  },
  {
   "cell_type": "code",
   "execution_count": 22,
   "id": "8cc98fec",
   "metadata": {},
   "outputs": [
    {
     "data": {
      "text/plain": [
       "0"
      ]
     },
     "execution_count": 22,
     "metadata": {},
     "output_type": "execute_result"
    }
   ],
   "source": [
    "table_exists = check_table_exists('Inflation',db_name)\n",
    "table_exists"
   ]
  },
  {
   "cell_type": "code",
   "execution_count": 5,
   "id": "46a7574e",
   "metadata": {},
   "outputs": [],
   "source": [
    "db_name = 'MacroData2'\n",
    "sql_code = '''SELECT \n",
    "    name\n",
    "FROM \n",
    "    sqlite_schema\n",
    "WHERE \n",
    "    type ='table' AND \n",
    "    name NOT LIKE 'sqlite_%';'''\n",
    "output = conn_execute(db_name, sql_code)\n",
    "output"
   ]
  }
 ],
 "metadata": {
  "kernelspec": {
   "display_name": "Python 3 (ipykernel)",
   "language": "python",
   "name": "python3"
  },
  "language_info": {
   "codemirror_mode": {
    "name": "ipython",
    "version": 3
   },
   "file_extension": ".py",
   "mimetype": "text/x-python",
   "name": "python",
   "nbconvert_exporter": "python",
   "pygments_lexer": "ipython3",
   "version": "3.10.1"
  }
 },
 "nbformat": 4,
 "nbformat_minor": 5
}
